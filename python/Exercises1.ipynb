{
 "cells": [
  {
   "cell_type": "markdown",
   "metadata": {},
   "source": [
    "### **Exercise 1:**\n",
    "The Recamán sequence is a famous sequence invented by the Colombian mathematician, Bernardo Recamán Santos. It is defined by the following algorithm, starting at $a_0=0$:\n",
    "\n",
    "$ a_n=a_{n-1}−n$ if $a_{n-1}-n > 0  $ and has not already appeared in the sequence; \n",
    "\n",
    "$ a_n=a_{n−1}+n$ otherwise\n",
    "\n",
    "Write a function that returns the first N elements of this sequence."
   ]
  },
  {
   "cell_type": "code",
   "execution_count": 1,
   "metadata": {},
   "outputs": [
    {
     "data": {
      "text/plain": [
       "[0, 1, 3, 6, 2, 7, 13, 20, 12, 21]"
      ]
     },
     "execution_count": 1,
     "metadata": {},
     "output_type": "execute_result"
    }
   ],
   "source": [
    "N = 10\n",
    "a = []\n",
    "a.append(0) \n",
    "for i in range(N-1):\n",
    "    a_temp = a[i] + (i+1)\n",
    "    if (a[i] - (i+1)) > 0:\n",
    "        already_present = 0;\n",
    "        for j in range(i):\n",
    "            if((a[i] - (i+1)) == a[j]):\n",
    "                already_present = 1;\n",
    "        if already_present == 0:\n",
    "            a_temp = a[i] - (i+1)\n",
    "    a.append(a_temp)\n",
    "    \n",
    "a"
   ]
  },
  {
   "cell_type": "markdown",
   "metadata": {},
   "source": [
    "### **Exercise 2:**\n",
    "Write a function to solve a quadratic equation."
   ]
  },
  {
   "cell_type": "code",
   "execution_count": 51,
   "metadata": {},
   "outputs": [],
   "source": [
    "import math\n",
    "def quadratic_solver(a, b, c):\n",
    "    print(\"Solving the quadratic equation:\", a,\"x^2+\", b,\"x+\",c)\n",
    "    delta = b**2 - 4 * a * c\n",
    "    if(delta < 0):\n",
    "        print(\"The equation has no real solution\")\n",
    "        return None\n",
    "    if(delta == 0):\n",
    "        sol = -b/(2*a)\n",
    "        return sol\n",
    "    sol1 = (-b + math.sqrt(delta))/(2*a)\n",
    "    sol2 = (-b - math.sqrt(delta))/(2*a)\n",
    "    return sol1, sol2"
   ]
  },
  {
   "cell_type": "code",
   "execution_count": 52,
   "metadata": {},
   "outputs": [
    {
     "name": "stdout",
     "output_type": "stream",
     "text": [
      "Solving the quadratic equation: 2 x^2+ 5 x+ 2\n"
     ]
    },
    {
     "data": {
      "text/plain": [
       "(-0.5, -2.0)"
      ]
     },
     "execution_count": 52,
     "metadata": {},
     "output_type": "execute_result"
    }
   ],
   "source": [
    "quadratic_solver(2, 5, 2)"
   ]
  },
  {
   "cell_type": "markdown",
   "metadata": {},
   "source": [
    "### **Exercise 3**\n",
    "Print the list `mylist` sorted in descending order. The original list should not be modified\n"
   ]
  },
  {
   "cell_type": "code",
   "execution_count": 2,
   "metadata": {},
   "outputs": [
    {
     "data": {
      "text/plain": [
       "[234, 89, 77, 11, 1, 0, -99, -748]"
      ]
     },
     "execution_count": 2,
     "metadata": {},
     "output_type": "execute_result"
    }
   ],
   "source": [
    "mylist=[1,-99,89,0,234,77,-748,11]\n",
    "newlist = mylist.copy()\n",
    "newlist.sort(reverse = True)\n",
    "newlist"
   ]
  },
  {
   "cell_type": "code",
   "execution_count": 3,
   "metadata": {},
   "outputs": [
    {
     "name": "stdout",
     "output_type": "stream",
     "text": [
      "[234, 89, 77, 11, 1, 0, -99, -748]\n"
     ]
    }
   ],
   "source": [
    "print(sorted(mylist)[::-1])"
   ]
  },
  {
   "cell_type": "markdown",
   "metadata": {},
   "source": [
    "### **Exercise 4:**\n",
    "Given 2 lists, produce a list containing common items between the two."
   ]
  },
  {
   "cell_type": "code",
   "execution_count": 73,
   "metadata": {},
   "outputs": [],
   "source": [
    "import random\n",
    "l1 = [random.randint(0, 100) for i in range(100)]\n",
    "l2 = [random.randint(0, 100) for i in range(100)]"
   ]
  },
  {
   "cell_type": "code",
   "execution_count": 75,
   "metadata": {},
   "outputs": [
    {
     "name": "stdout",
     "output_type": "stream",
     "text": [
      "126 µs ± 1.14 µs per loop (mean ± std. dev. of 7 runs, 10,000 loops each)\n"
     ]
    }
   ],
   "source": [
    "%%timeit\n",
    "intersection = []\n",
    "for i in range(len(l1)):\n",
    "    if (l1[i] in l2) & (l1[i] not in intersection):\n",
    "        intersection.append(l1[i])\n",
    "intersection"
   ]
  },
  {
   "cell_type": "markdown",
   "metadata": {},
   "source": [
    "An alternative using sets which we can see are much faster"
   ]
  },
  {
   "cell_type": "code",
   "execution_count": 68,
   "metadata": {},
   "outputs": [
    {
     "name": "stdout",
     "output_type": "stream",
     "text": [
      "4.19 µs ± 88.5 ns per loop (mean ± std. dev. of 7 runs, 100,000 loops each)\n"
     ]
    }
   ],
   "source": [
    "%%timeit\n",
    "s1 = set(l1)\n",
    "s2 = set(l2)\n",
    "intersect = s1 & s2\n",
    "intersect"
   ]
  },
  {
   "cell_type": "markdown",
   "metadata": {},
   "source": [
    "### **Exercise 5:**\n",
    "Create a function that returns a list of all pairs of factors (as tuples) of a given number using list comprehension."
   ]
  },
  {
   "cell_type": "markdown",
   "metadata": {},
   "source": [
    "Try to find a way to remove duplicates as well"
   ]
  },
  {
   "cell_type": "code",
   "execution_count": 141,
   "metadata": {},
   "outputs": [
    {
     "data": {
      "text/plain": [
       "[(1, 18), (2, 9), (3, 6), (6, 3)]"
      ]
     },
     "execution_count": 141,
     "metadata": {},
     "output_type": "execute_result"
    }
   ],
   "source": [
    "def factors(n):\n",
    "    factor_pairs = []\n",
    "    if isinstance(n, float):\n",
    "        print(\"Not an integer! I can't compute factors\")\n",
    "        return None\n",
    "    for i in range(1, int(n/2)): \n",
    "        if n%i == 0:\n",
    "            factor_pairs.append((i, int(n/i)))\n",
    "    return factor_pairs\n",
    "\n",
    "factors(18)"
   ]
  },
  {
   "cell_type": "code",
   "execution_count": 4,
   "metadata": {},
   "outputs": [],
   "source": [
    "def factors(val):\n",
    "    return [] # Uses list comprehension"
   ]
  },
  {
   "cell_type": "markdown",
   "metadata": {},
   "source": [
    "### **Exercise 6:**\n",
    "Create a list of all numbers divisible by 3 and smaller than 1000 in 4 different ways:\n",
    " \n",
    " - naive way where you just create a list and append data in a loop\n",
    " - using list comprehension\n",
    " - slicing an existing list\n",
    " - directly with `range()`\n",
    "\n",
    "Time all of them."
   ]
  },
  {
   "cell_type": "code",
   "execution_count": 150,
   "metadata": {},
   "outputs": [
    {
     "name": "stdout",
     "output_type": "stream",
     "text": [
      "90.2 µs ± 1.75 µs per loop (mean ± std. dev. of 7 runs, 10,000 loops each)\n"
     ]
    }
   ],
   "source": [
    "%%timeit\n",
    "divisible = []\n",
    "for i in range(3, 1001):\n",
    "    if i%3 == 0:\n",
    "        divisible.append(i)"
   ]
  },
  {
   "cell_type": "code",
   "execution_count": 149,
   "metadata": {},
   "outputs": [
    {
     "name": "stdout",
     "output_type": "stream",
     "text": [
      "70.2 µs ± 998 ns per loop (mean ± std. dev. of 7 runs, 10,000 loops each)\n"
     ]
    }
   ],
   "source": [
    "%%timeit\n",
    "divisible = [i for i in range(3, 1001) if i % 3 == 0]"
   ]
  },
  {
   "cell_type": "code",
   "execution_count": 162,
   "metadata": {},
   "outputs": [
    {
     "name": "stdout",
     "output_type": "stream",
     "text": [
      "17.8 µs ± 248 ns per loop (mean ± std. dev. of 7 runs, 100,000 loops each)\n"
     ]
    }
   ],
   "source": [
    "%%timeit\n",
    "divisible = list(range(1000))\n",
    "divisible[3:1000:3]"
   ]
  },
  {
   "cell_type": "code",
   "execution_count": 166,
   "metadata": {},
   "outputs": [
    {
     "name": "stdout",
     "output_type": "stream",
     "text": [
      "5.79 µs ± 111 ns per loop (mean ± std. dev. of 7 runs, 100,000 loops each)\n"
     ]
    }
   ],
   "source": [
    "%%timeit\n",
    "divisible = list(range(3, 1000, 3))\n",
    "divisible"
   ]
  },
  {
   "cell_type": "markdown",
   "metadata": {},
   "source": [
    "It appears that using range directly is the fastest option."
   ]
  },
  {
   "cell_type": "markdown",
   "metadata": {},
   "source": [
    "### **Exercise 7:**\n",
    "Write a function to check if a string (containing spaces and capital letters, but no punctuation marks) is a palindrome (use help to see which functions are available for a string). \n"
   ]
  },
  {
   "cell_type": "code",
   "execution_count": 8,
   "metadata": {},
   "outputs": [],
   "source": [
    "def palyndrome(a):\n",
    "    for i in range(int(len(a)/2)):\n",
    "        if(a[i] != a[-i-1]):\n",
    "            return False\n",
    "    return True;"
   ]
  },
  {
   "cell_type": "code",
   "execution_count": 16,
   "metadata": {},
   "outputs": [],
   "source": [
    "def palyndrome2(s):\n",
    "    s = \"\".join(s.split())\n",
    "    s = s.lower()\n",
    "    return s == s[::-1]"
   ]
  },
  {
   "cell_type": "code",
   "execution_count": 17,
   "metadata": {},
   "outputs": [
    {
     "name": "stdout",
     "output_type": "stream",
     "text": [
      "562 ns ± 9.73 ns per loop (mean ± std. dev. of 7 runs, 1,000,000 loops each)\n"
     ]
    }
   ],
   "source": [
    "%%timeit\n",
    "palyndrome(\"yamamay\")"
   ]
  },
  {
   "cell_type": "code",
   "execution_count": 18,
   "metadata": {},
   "outputs": [
    {
     "name": "stdout",
     "output_type": "stream",
     "text": [
      "348 ns ± 13.1 ns per loop (mean ± std. dev. of 7 runs, 1,000,000 loops each)\n"
     ]
    }
   ],
   "source": [
    "%%timeit\n",
    "palyndrome2(\"yamamay\")"
   ]
  },
  {
   "cell_type": "markdown",
   "metadata": {},
   "source": [
    "### **Exercise 8:**\n",
    "Write a function to find a character with a maximum number of occurences in a string. Return a tuple with that character and the number. You can ignore ties. Only use string's inbuilt functions and the function `max` (use help to see how to use it)."
   ]
  },
  {
   "cell_type": "code",
   "execution_count": 225,
   "metadata": {},
   "outputs": [
    {
     "data": {
      "text/plain": [
       "(14, 't')"
      ]
     },
     "execution_count": 225,
     "metadata": {},
     "output_type": "execute_result"
    }
   ],
   "source": [
    "def max_occurrences(s):\n",
    "    max_char = ''\n",
    "    max_occurrence = 0;\n",
    "    for i in range(len(s)):\n",
    "        if(s[i] == ' '):\n",
    "            break\n",
    "        count = s.count(s[i])\n",
    "        if(count > max_occurrence):\n",
    "            max_occurrence = count\n",
    "            max_char = s[i]\n",
    "    return(max_occurrence, max_char)\n",
    "        \n",
    "max_occurrences(\"to be or not to be that is the question wether tis nobler in the mind to suffer the slings and arrows of outrageour fortune\")"
   ]
  },
  {
   "cell_type": "markdown",
   "metadata": {},
   "source": [
    "### **Exercise 9:**\n",
    "Write a function that return the first N prime numbers using the Sieve of Eratosphenes algorithm\n",
    "\n",
    "https://en.wikipedia.org/wiki/Sieve_of_Eratosthenes"
   ]
  },
  {
   "cell_type": "code",
   "execution_count": 289,
   "metadata": {},
   "outputs": [
    {
     "data": {
      "text/plain": [
       "[2,\n",
       " 3,\n",
       " 5,\n",
       " 7,\n",
       " 11,\n",
       " 13,\n",
       " 17,\n",
       " 19,\n",
       " 23,\n",
       " 29,\n",
       " 31,\n",
       " 37,\n",
       " 41,\n",
       " 43,\n",
       " 47,\n",
       " 53,\n",
       " 59,\n",
       " 61,\n",
       " 67,\n",
       " 71,\n",
       " 73,\n",
       " 79,\n",
       " 83,\n",
       " 89,\n",
       " 97]"
      ]
     },
     "execution_count": 289,
     "metadata": {},
     "output_type": "execute_result"
    }
   ],
   "source": [
    "def sieve(N):\n",
    "    primes = list(range(2, N+1))\n",
    "    bools = [True for i in range(2, N+1)]\n",
    "    for i in range(0, int(math.sqrt(N))):\n",
    "        if bools[i]:\n",
    "            bools[(primes[i] * primes[i] - 2): N+1: primes[i]] = [False] * len(bools[(primes[i] * primes[i]-2): N+1: primes[i]])\n",
    "    return([i+2 for i in range(0, N-1) if bools[i]])\n",
    "                \n",
    "sieve(100)"
   ]
  }
 ],
 "metadata": {
  "kernelspec": {
   "display_name": "Python 3 (ipykernel)",
   "language": "python",
   "name": "python3"
  },
  "language_info": {
   "codemirror_mode": {
    "name": "ipython",
    "version": 3
   },
   "file_extension": ".py",
   "mimetype": "text/x-python",
   "name": "python",
   "nbconvert_exporter": "python",
   "pygments_lexer": "ipython3",
   "version": "3.10.8"
  }
 },
 "nbformat": 4,
 "nbformat_minor": 4
}
