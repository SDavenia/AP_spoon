{
 "cells": [
  {
   "cell_type": "code",
   "execution_count": 42,
   "id": "88f08519-fe62-4284-9c45-53962c0aa606",
   "metadata": {},
   "outputs": [],
   "source": [
    "import numpy as np\n",
    "import matplotlib.pyplot as plt"
   ]
  },
  {
   "cell_type": "markdown",
   "id": "d11517f7-d25e-4ddd-8cf5-95cf809e8bb5",
   "metadata": {},
   "source": [
    "### **Exercise1:**\n",
    "\n",
    "Create your own class for complex numbers, just like you would in c++. Make sure all the arithmetic operations work (yes, this is another useless exercise to play with the syntax)."
   ]
  },
  {
   "cell_type": "code",
   "execution_count": 34,
   "id": "d9d7affe-08f3-4ef1-b16f-5c1efb9ddaa4",
   "metadata": {},
   "outputs": [],
   "source": [
    "class Complex:\n",
    "    def __init__(self, real, im):\n",
    "        self.real = real\n",
    "        self.complex = im\n",
    "    def __str__(self):\n",
    "        if self.complex > 0:\n",
    "            return \"{0} + {1}i\".format(self.real, self.complex)\n",
    "        if self.complex == 0:\n",
    "            return \"{0}\".format(self.real)\n",
    "        return \"{0} - {1}i\".format(self.real, -self.complex)\n",
    "    def __add__(self, other):\n",
    "        real = self.real + other.real\n",
    "        compl = self.complex + other.complex\n",
    "        return Complex(real, compl)\n",
    "    def __sub__(self, other):\n",
    "        real = self.real - other.real\n",
    "        compl = self.complex - other.complex\n",
    "        return Complex(real, compl)\n",
    "    def __mul__(self, other):\n",
    "        real = self.real * other.real - self.complex * other.complex\n",
    "        compl = self.complex * other.real - self.real * other.complex\n",
    "        return Complex(real, compl)\n",
    "    def __truediv__(self, other):\n",
    "        div = other.real * other.real + other.complex * other.complex\n",
    "        real = (self.real * other.real + self.complex * other.complex)/div\n",
    "        compl = (self.real * other.complex + self.complex * other.real)/div\n",
    "        return Complex(real, compl)"
   ]
  },
  {
   "cell_type": "code",
   "execution_count": 35,
   "id": "ca03906d-6d8d-41b0-985d-a78364ffdc48",
   "metadata": {},
   "outputs": [
    {
     "name": "stdout",
     "output_type": "stream",
     "text": [
      "3 + 5i\n",
      "1 + 1i\n",
      "-4 - 1i\n",
      "1.6 + 1.4i\n"
     ]
    }
   ],
   "source": [
    "a = Complex(2, 3)\n",
    "b = Complex(1, 2)\n",
    "print(a + b)\n",
    "print(a - b)\n",
    "print(a * b)\n",
    "print(a/b)\n",
    "\n"
   ]
  },
  {
   "cell_type": "markdown",
   "id": "ea29074e-7dd7-48c6-bfd9-03860cffc268",
   "metadata": {},
   "source": [
    "### **Exercise2:**\n",
    "\n",
    "Rewrite your jacobi solution from the previous exercise set with classes (you can follow the same layout as the c++ solution)."
   ]
  },
  {
   "cell_type": "code",
   "execution_count": 55,
   "id": "1790aff1-445c-4fbc-a319-ff2c2de5c334",
   "metadata": {},
   "outputs": [],
   "source": [
    "class Jacobi:\n",
    "    \"\"\"\n",
    "    This class will store the matrix and the number of iterations since the beginning\n",
    "    \"\"\"\n",
    "    def __init__(self, n):\n",
    "        mesh = np.zeros((n+1, n+1), dtype = \"float\")\n",
    "        # Initial setup\n",
    "        for i in range(0, mesh.shape[1]):\n",
    "            mesh[i, 0] = (100/n) * i\n",
    "            mesh[mesh.shape[1]-1, i] = (100/n) * (mesh.shape[1] - i - 1)\n",
    "        for i in range(1, mesh.shape[1]-1):\n",
    "            for j in range(1, mesh.shape[1]-1):\n",
    "                mesh[i, j] = 0.5\n",
    "        self.mesh = mesh\n",
    "        self._n = 0\n",
    "    def step(self, nsteps, plot = True):\n",
    "        \"\"\"\n",
    "        This function performs nsteps steps forward from the current state\n",
    "         and plots the end matrix if desired\n",
    "        \"\"\"\n",
    "        k = 0\n",
    "        self._n = self._n + nsteps\n",
    "        while k < nsteps:\n",
    "            k += 1\n",
    "            mesh_old = self.mesh\n",
    "            for i in range(1, self.mesh.shape[1]-1):\n",
    "                for j in range(1, self.mesh.shape[1]-1):\n",
    "                    self.mesh[i, j] = 0.25 * (mesh_old[i-1, j] + mesh_old[i+1, j] + mesh_old[i, j-1] + mesh_old[i, j+1])\n",
    "        if plot:\n",
    "            plt.imshow(self.mesh, interpolation = \"none\")"
   ]
  },
  {
   "cell_type": "code",
   "execution_count": 60,
   "id": "467e86c4-91dc-4706-a5ff-945c857aafd6",
   "metadata": {},
   "outputs": [
    {
     "name": "stdout",
     "output_type": "stream",
     "text": [
      "3\n"
     ]
    },
    {
     "data": {
      "image/png": "[encoded data removed]",
      "text/plain": [
       "<Figure size 640x480 with 1 Axes>"
      ]
     },
     "metadata": {},
     "output_type": "display_data"
    }
   ],
   "source": [
    "matrix = Jacobi(50)\n",
    "plt.imshow(matrix.mesh, interpolation = \"none\")\n",
    "\n",
    "matrix.step(3)\n",
    "print(matrix._n)"
   ]
  },
  {
   "cell_type": "markdown",
   "id": "a3f9dbca-8146-41ae-a859-792866cd4419",
   "metadata": {},
   "source": [
    "### **Exercise3:**\n",
    "\n",
    "Write a `cython` module with a function that solves the quadratic equation (you don't need to use classes here for now)"
   ]
  },
  {
   "cell_type": "code",
   "execution_count": 61,
   "id": "86f56bf8-9d11-478c-b765-6c460e38e1e1",
   "metadata": {},
   "outputs": [],
   "source": [
    "%load_ext Cython"
   ]
  },
  {
   "cell_type": "code",
   "execution_count": 74,
   "id": "a76997c6-2894-476c-81f7-90b655bafdac",
   "metadata": {},
   "outputs": [],
   "source": [
    "%%cython\n",
    "from libc.math cimport sqrt\n",
    "\n",
    "def CQuadratic_Solver(double a, double b, double c):\n",
    "    cdef double delta;\n",
    "    cdef double delta_sq;\n",
    "    cdef double div;\n",
    "    cdef double re1;\n",
    "    cdef double re2;\n",
    "    div = 1 / (2*a);\n",
    "    delta = b*b - 4 * a * c;\n",
    "    \n",
    "    if delta == 0:\n",
    "        re1 = -b * div;\n",
    "        print(\"Unique real solution: {0}\".format(re1));\n",
    "        return 0;\n",
    "    if delta > 0 :\n",
    "        delta_sq = sqrt(delta);\n",
    "        re1 = (-b + delta_sq) * div;\n",
    "        re2 = (-b - delta_sq) * div;\n",
    "        print(\"Two real solutions: {0} and {1}\".format(re1, re2))\n",
    "        return 0\n",
    "    cdef double im\n",
    "    delta_sq = sqrt(-delta)\n",
    "    re1 = -b * div;\n",
    "    im = delta_sq * div;\n",
    "    print(\"Two complex solutions: {0} + {1}i and {0} - {1}i\".format(re1, im))\n",
    "    "
   ]
  },
  {
   "cell_type": "code",
   "execution_count": 76,
   "id": "4e6209c7-fbc9-40cd-a2ff-febabc43e49b",
   "metadata": {},
   "outputs": [
    {
     "name": "stdout",
     "output_type": "stream",
     "text": [
      "Two complex solutions: -1.0 + 1.4142135623730951i and -1.0 - 1.4142135623730951i\n"
     ]
    }
   ],
   "source": [
    "CQuadratic_Solver(1, 2, 3)"
   ]
  },
  {
   "cell_type": "markdown",
   "id": "00f9ee84-b578-4187-936a-225ddaef1f74",
   "metadata": {},
   "source": [
    "### **Exercise4:**\n",
    "\n",
    "Use `pibind` to call the c++ code for jacobi (from the the extra_exercises solutions) "
   ]
  },
  {
   "cell_type": "code",
   "execution_count": null,
   "id": "06510615-d3b2-45e7-83c5-92f32ed88332",
   "metadata": {},
   "outputs": [],
   "source": []
  }
 ],
 "metadata": {
  "kernelspec": {
   "display_name": "Python 3 (ipykernel)",
   "language": "python",
   "name": "python3"
  },
  "language_info": {
   "codemirror_mode": {
    "name": "ipython",
    "version": 3
   },
   "file_extension": ".py",
   "mimetype": "text/x-python",
   "name": "python",
   "nbconvert_exporter": "python",
   "pygments_lexer": "ipython3",
   "version": "3.10.8"
  }
 },
 "nbformat": 4,
 "nbformat_minor": 5
}
