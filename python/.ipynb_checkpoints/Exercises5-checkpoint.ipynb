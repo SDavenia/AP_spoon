{
 "cells": [
  {
   "cell_type": "markdown",
   "metadata": {},
   "source": [
    "### **Exercise1:**\n",
    "\n",
    "Create a dictionary out of two given lists. Then delete the elements from the second list."
   ]
  },
  {
   "cell_type": "code",
   "execution_count": 1,
   "metadata": {},
   "outputs": [],
   "source": [
    "l1 = ['name', 'surname', 'age']\n",
    "l2 = [\"Samuele\", \"D'Avenia\", \"22\"]"
   ]
  },
  {
   "cell_type": "code",
   "execution_count": 5,
   "metadata": {},
   "outputs": [],
   "source": [
    "d = {x : v for x, v in zip(l1, l2)}"
   ]
  },
  {
   "cell_type": "code",
   "execution_count": 6,
   "metadata": {},
   "outputs": [
    {
     "data": {
      "text/plain": [
       "{'name': 'Samuele', 'surname': \"D'Avenia\", 'age': '22'}"
      ]
     },
     "execution_count": 6,
     "metadata": {},
     "output_type": "execute_result"
    }
   ],
   "source": [
    "d"
   ]
  },
  {
   "cell_type": "markdown",
   "metadata": {},
   "source": [
    "### **Exercise2:**\n",
    "\n",
    "Use the code from the old C++ bisection exercise (lecture 1) to create a C library and call it from python."
   ]
  },
  {
   "cell_type": "code",
   "execution_count": 7,
   "metadata": {},
   "outputs": [
    {
     "name": "stdout",
     "output_type": "stream",
     "text": [
      "Writing bisection.cpp\n"
     ]
    }
   ],
   "source": [
    "%%file bisection.cpp\n",
    "\n",
    "#include <iostream>\n",
    "#include <cmath>\n",
    "\n",
    "double f(const double& x){\n",
    "\treturn x*x*x - 6*x*x + 11*x -6;\n",
    "};\n",
    "\n",
    "int not_main(){\n",
    "    double a{-10},b{10},m{0};\n",
    "    //sanity check for different signs at the end of the interval\n",
    "    if (((f(a)<0)&&(f(b)<0))||((f(a)>0)&&(f(b)>0))){\n",
    "        std::cout<<\"bisection won't work in this interval, the function has the same signs at both ends\"<<std::endl;\n",
    "        exit(1);\n",
    "    }\n",
    "    while (std::fabs(b-a) > 1e-9 ){\n",
    "        //to avoid potentially expensive recalculation\n",
    "        double fa=f(a);\n",
    "        double fb=f(b);\n",
    "        //maybe be already found the root?\n",
    "        if(std::fabs(fa) < 1e-9){\n",
    "            m=a;\n",
    "            break;\n",
    "        }else if(std::fabs(fb) < 1e-9){\n",
    "            m=b;\n",
    "            break;            \n",
    "        }\n",
    "        //actual bisection\n",
    "        if ((f(m)>0)&&(fa<0)) {\n",
    "            b=m;\n",
    "        }else {\n",
    "            a=m;\n",
    "        } \n",
    "        m=(a+b)/2;\n",
    "    }//of while \n",
    "\n",
    "    std::cout<<\"The root is close to \"<<m<<std::endl;\n",
    "    return 0;   \n",
    "}"
   ]
  },
  {
   "cell_type": "code",
   "execution_count": 12,
   "metadata": {},
   "outputs": [],
   "source": [
    "!g++ -std=c++17 -fPIC -shared -o libbisection.so bisection.cpp"
   ]
  },
  {
   "cell_type": "code",
   "execution_count": 13,
   "metadata": {},
   "outputs": [],
   "source": [
    "import ctypes\n",
    "\n",
    "libObject = ctypes.CDLL('./libbisection.so') #path to the library (in our case same directory.)"
   ]
  },
  {
   "cell_type": "code",
   "execution_count": 19,
   "metadata": {},
   "outputs": [
    {
     "name": "stdout",
     "output_type": "stream",
     "text": [
      "The root is close to 3\n"
     ]
    },
    {
     "data": {
      "text/plain": [
       "0"
      ]
     },
     "execution_count": 19,
     "metadata": {},
     "output_type": "execute_result"
    }
   ],
   "source": [
    "libObject.not_main()"
   ]
  },
  {
   "cell_type": "markdown",
   "metadata": {},
   "source": [
    "### **Exercise3:**\n",
    "\n",
    "Modify the jacobi solution from the extra exercises to return a pointer to an array with the solution. Then call all that from python. "
   ]
  },
  {
   "cell_type": "code",
   "execution_count": 65,
   "metadata": {},
   "outputs": [],
   "source": [
    "!g++ -std=c++17 -fPIC -shared -o libjacobi2.so jacobi2.cpp"
   ]
  },
  {
   "cell_type": "code",
   "execution_count": 66,
   "metadata": {},
   "outputs": [],
   "source": [
    "import ctypes\n",
    "\n",
    "libObject2 = ctypes.CDLL('./libjacobi2.so') #path to the library (in our case same directory.)"
   ]
  },
  {
   "cell_type": "code",
   "execution_count": 68,
   "metadata": {},
   "outputs": [],
   "source": [
    "libObject2.old_main.restype=ctypes.POINTER(ctypes.c_double)"
   ]
  },
  {
   "cell_type": "code",
   "execution_count": 69,
   "metadata": {},
   "outputs": [
    {
     "name": "stdout",
     "output_type": "stream",
     "text": [
      "Initializing\n"
     ]
    },
    {
     "data": {
      "text/plain": [
       "<__main__.LP_c_double at 0x7f8e0c0e45c0>"
      ]
     },
     "execution_count": 69,
     "metadata": {},
     "output_type": "execute_result"
    }
   ],
   "source": [
    "libObject2.old_main()"
   ]
  },
  {
   "cell_type": "markdown",
   "metadata": {},
   "source": [
    "In this case I modified the main function to return a pointer to double.\\\n",
    "Might have to check for memory leaks etc..."
   ]
  }
 ],
 "metadata": {
  "kernelspec": {
   "display_name": "Python 3 (ipykernel)",
   "language": "python",
   "name": "python3"
  },
  "language_info": {
   "codemirror_mode": {
    "name": "ipython",
    "version": 3
   },
   "file_extension": ".py",
   "mimetype": "text/x-python",
   "name": "python",
   "nbconvert_exporter": "python",
   "pygments_lexer": "ipython3",
   "version": "3.10.8"
  }
 },
 "nbformat": 4,
 "nbformat_minor": 4
}
