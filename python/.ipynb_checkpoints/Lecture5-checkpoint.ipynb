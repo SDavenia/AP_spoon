{
 "cells": [
  {
   "cell_type": "markdown",
   "metadata": {},
   "source": [
    "### **Dictionaries:** (stuff that should have been included in Lecture1)"
   ]
  },
  {
   "cell_type": "markdown",
   "metadata": {},
   "source": [
    "Dictionaries are defined by the following set of rules:\n",
    "\n",
    " - it's an ordered (after pyton 3.7, before they were unordered) set of pairs `key:value`\n",
    " - elements are accessed by key and not by index\n",
    " - keys must be immutable (e.g., boolean, integer, float, tuple, string, not list)\n",
    " - dictionaries themselves are mutable - you can add, delete and change elements"
   ]
  },
  {
   "cell_type": "code",
   "execution_count": 1,
   "metadata": {},
   "outputs": [],
   "source": [
    "my_dict = {\n",
    "  \"mykey1\": \"value1\",\n",
    "  \"key2\": 2,\n",
    "  \"key3\": 3.5\n",
    "}"
   ]
  },
  {
   "cell_type": "code",
   "execution_count": 2,
   "metadata": {},
   "outputs": [
    {
     "name": "stdout",
     "output_type": "stream",
     "text": [
      "{'mykey1': 'value1', 'key2': 2, 'key3': 3.5}\n"
     ]
    }
   ],
   "source": [
    "print(my_dict)"
   ]
  },
  {
   "cell_type": "code",
   "execution_count": 3,
   "metadata": {},
   "outputs": [
    {
     "name": "stdout",
     "output_type": "stream",
     "text": [
      "3\n"
     ]
    }
   ],
   "source": [
    "print(len(my_dict))"
   ]
  },
  {
   "cell_type": "markdown",
   "metadata": {},
   "source": [
    "Another way to construct:"
   ]
  },
  {
   "cell_type": "code",
   "execution_count": 4,
   "metadata": {},
   "outputs": [
    {
     "name": "stdout",
     "output_type": "stream",
     "text": [
      "{'name': 'Cat', 'age': 177, 'country': 'Neverland'}\n"
     ]
    }
   ],
   "source": [
    "my_dict2 = dict(name = \"Cat\", age = 177, country = \"Neverland\")\n",
    "print(my_dict2)"
   ]
  },
  {
   "cell_type": "code",
   "execution_count": 5,
   "metadata": {},
   "outputs": [
    {
     "name": "stdout",
     "output_type": "stream",
     "text": [
      "{1: 2, 3: 4, 5: 6}\n"
     ]
    }
   ],
   "source": [
    "my_dict3 = dict([(1,2),(3,4),(5,6)])\n",
    "print(my_dict3)"
   ]
  },
  {
   "cell_type": "markdown",
   "metadata": {},
   "source": [
    "`zip` function returns an iterator of tuples, where each tuple is the join of the elements of each passed iterator."
   ]
  },
  {
   "cell_type": "code",
   "execution_count": 6,
   "metadata": {},
   "outputs": [
    {
     "name": "stdout",
     "output_type": "stream",
     "text": [
      "{'Maria': 77, 'John': 21, 'Stefano': 67, 'BunchOfPeople': [1, 5, 38, 137]}\n"
     ]
    }
   ],
   "source": [
    "names = [\"Maria\", \"John\", \"Stefano\", \"BunchOfPeople\"]\n",
    "ages = [77, 21, 67, [1, 5, 38, 137]]\n",
    "age_dict = {k: v for k, v in zip(names, ages)}\n",
    "print(age_dict)"
   ]
  },
  {
   "cell_type": "markdown",
   "metadata": {},
   "source": [
    "How to access elements:"
   ]
  },
  {
   "cell_type": "code",
   "execution_count": 7,
   "metadata": {},
   "outputs": [
    {
     "name": "stdout",
     "output_type": "stream",
     "text": [
      "177\n"
     ]
    }
   ],
   "source": [
    "print(my_dict2[\"age\"])"
   ]
  },
  {
   "cell_type": "code",
   "execution_count": 8,
   "metadata": {},
   "outputs": [
    {
     "data": {
      "text/plain": [
       "'Cat'"
      ]
     },
     "execution_count": 8,
     "metadata": {},
     "output_type": "execute_result"
    }
   ],
   "source": [
    "my_dict2.get(\"name\")"
   ]
  },
  {
   "cell_type": "code",
   "execution_count": 9,
   "metadata": {},
   "outputs": [
    {
     "data": {
      "text/plain": [
       "dict_keys(['name', 'age', 'country'])"
      ]
     },
     "execution_count": 9,
     "metadata": {},
     "output_type": "execute_result"
    }
   ],
   "source": [
    "my_dict2.keys()"
   ]
  },
  {
   "cell_type": "code",
   "execution_count": 10,
   "metadata": {},
   "outputs": [
    {
     "data": {
      "text/plain": [
       "dict_values(['Cat', 177, 'Neverland'])"
      ]
     },
     "execution_count": 10,
     "metadata": {},
     "output_type": "execute_result"
    }
   ],
   "source": [
    "my_dict2.values()"
   ]
  },
  {
   "cell_type": "code",
   "execution_count": 11,
   "metadata": {},
   "outputs": [
    {
     "name": "stdout",
     "output_type": "stream",
     "text": [
      "name Cat\n",
      "age 177\n",
      "country Neverland\n"
     ]
    }
   ],
   "source": [
    "for x, y in my_dict2.items():\n",
    "    print(x, y) "
   ]
  },
  {
   "cell_type": "markdown",
   "metadata": {},
   "source": [
    "copying (just `=` won't work as it's just a \"label\"): "
   ]
  },
  {
   "cell_type": "code",
   "execution_count": 12,
   "metadata": {},
   "outputs": [
    {
     "name": "stdout",
     "output_type": "stream",
     "text": [
      "{'name': 'Cat', 'age': 177, 'country': 'Neverland'}\n"
     ]
    }
   ],
   "source": [
    "my_dict4=my_dict2.copy()\n",
    "print(my_dict4)"
   ]
  },
  {
   "cell_type": "markdown",
   "metadata": {},
   "source": [
    "adding new elements:"
   ]
  },
  {
   "cell_type": "code",
   "execution_count": 13,
   "metadata": {},
   "outputs": [
    {
     "name": "stdout",
     "output_type": "stream",
     "text": [
      "{'name': 'Cat', 'age': 177, 'country': 'Neverland', 'color': 'black'}\n"
     ]
    }
   ],
   "source": [
    "my_dict2[\"color\"]=\"black\"\n",
    "print(my_dict2)"
   ]
  },
  {
   "cell_type": "markdown",
   "metadata": {},
   "source": [
    "modifying elements:"
   ]
  },
  {
   "cell_type": "code",
   "execution_count": 14,
   "metadata": {},
   "outputs": [
    {
     "name": "stdout",
     "output_type": "stream",
     "text": [
      "{'name': 'Cat', 'age': 177, 'country': 'Neverland', 'color': 'purple'}\n"
     ]
    }
   ],
   "source": [
    "my_dict2[\"color\"]=\"purple\"\n",
    "print(my_dict2)"
   ]
  },
  {
   "cell_type": "markdown",
   "metadata": {},
   "source": [
    "deleting elements:"
   ]
  },
  {
   "cell_type": "code",
   "execution_count": 15,
   "metadata": {},
   "outputs": [
    {
     "name": "stdout",
     "output_type": "stream",
     "text": [
      "{'name': 'Cat', 'age': 177, 'country': 'Neverland'}\n"
     ]
    }
   ],
   "source": [
    "del my_dict2[\"color\"]\n",
    "print(my_dict2)"
   ]
  },
  {
   "cell_type": "markdown",
   "metadata": {},
   "source": [
    "checking if element exists:"
   ]
  },
  {
   "cell_type": "code",
   "execution_count": 16,
   "metadata": {},
   "outputs": [
    {
     "name": "stdout",
     "output_type": "stream",
     "text": [
      "False\n",
      "True\n"
     ]
    }
   ],
   "source": [
    "print(\"color\" in my_dict2)\n",
    "print(\"name\" in my_dict2)"
   ]
  },
  {
   "cell_type": "markdown",
   "metadata": {},
   "source": [
    "### **Ctypes**\n",
    "\n",
    "Ctypes exist for C, while for C++ you need to write all the functions.\\\n",
    "This is better for pure C than for C++, use `pybind` for C++, overwise you need to write too many wrappers"
   ]
  },
  {
   "cell_type": "markdown",
   "metadata": {},
   "source": [
    "If I want a library instead of an executable I need to add `-fPIC` and `-shared` and by convention start it with lib and with .so extension at the end.\n",
    "\n",
    "First, you need to create a `C` shared library.\n",
    "\n",
    "```g++ -fPIC -shared -o libhellotest.so hello.cpp```\n",
    "\n",
    "\n",
    "where `hello.cpp` constains some functions, for example:\n",
    "\n",
    "```\n",
    "#include <iostream>\n",
    "extern \"C\" {\n",
    "    void hello(){\n",
    "        std::cout<<\"Hello, World!\"<<std::endl;\n",
    "    }\n",
    "}\n",
    "```\n",
    "We are using the C++ compiler, you have to add `extern C` so that they are treated as C functions, but we can still use the C++ functions inside.\\\n",
    "It compiles the function and then the function itself is included in the library.\\\n",
    "We can't really use \"real C++\" inside the `extern C`, so no classes, no templates, only functions.\n",
    "\n",
    "The compiler flags `-fPIC -shared` are needed to create the library object (you have seen it with `pybind` already)"
   ]
  },
  {
   "cell_type": "code",
   "execution_count": 32,
   "metadata": {},
   "outputs": [],
   "source": [
    "!g++ -fPIC -shared -o libhellotest.so hello.cpp"
   ]
  },
  {
   "cell_type": "code",
   "execution_count": 33,
   "metadata": {},
   "outputs": [],
   "source": [
    "#install ctypes package in conda (already installed on Mac, do not try to install it).\n",
    "import ctypes\n",
    "\n",
    "libObject = ctypes.CDLL('./libhellotest.so') #path to the library (in our case same directory.)"
   ]
  },
  {
   "cell_type": "code",
   "execution_count": 34,
   "metadata": {},
   "outputs": [
    {
     "name": "stdout",
     "output_type": "stream",
     "text": [
      "Hello, World!\n"
     ]
    },
    {
     "data": {
      "text/plain": [
       "1207364720"
      ]
     },
     "execution_count": 34,
     "metadata": {},
     "output_type": "execute_result"
    }
   ],
   "source": [
    "libObject.hello()"
   ]
  },
  {
   "cell_type": "markdown",
   "metadata": {},
   "source": [
    "So what was that output? Some undefined number that the function returned, the actual \"Hello, World!\" has been printed to the console (where you have started the jyputer-lab).\\\n",
    "Printing Hello, WOrld was supposed to happen in the console, without installing some stuff you can't get std::cout to print in the notebook.\\ You can see that the outputs are put in the terminal (can be used to check if it works)."
   ]
  },
  {
   "cell_type": "markdown",
   "metadata": {},
   "source": [
    "What if we need to have parameters/return something?\n",
    "\n",
    "Add \n",
    "\n",
    "```\n",
    "int sum(int a, int b){\n",
    "  return a+b;\n",
    "}\n",
    "```\n",
    "\n",
    "to the `hello.cpp` file and then recompile it with: \n",
    "\n",
    "```g++ -fPIC -shared -o libhellotest2.so hello.cpp```"
   ]
  },
  {
   "cell_type": "code",
   "execution_count": 55,
   "metadata": {},
   "outputs": [],
   "source": [
    "!g++ -fPIC -shared -o libhellotest2.so hello.cpp"
   ]
  },
  {
   "cell_type": "code",
   "execution_count": 56,
   "metadata": {},
   "outputs": [],
   "source": [
    "libObject2 = ctypes.CDLL('./libhellotest2.so')"
   ]
  },
  {
   "cell_type": "code",
   "execution_count": 57,
   "metadata": {},
   "outputs": [
    {
     "name": "stdout",
     "output_type": "stream",
     "text": [
      "Hello, World!\n"
     ]
    },
    {
     "data": {
      "text/plain": [
       "1207364720"
      ]
     },
     "execution_count": 57,
     "metadata": {},
     "output_type": "execute_result"
    }
   ],
   "source": [
    "libObject2.hello() #just to see that it still works"
   ]
  },
  {
   "cell_type": "code",
   "execution_count": 58,
   "metadata": {},
   "outputs": [
    {
     "data": {
      "text/plain": [
       "5"
      ]
     },
     "execution_count": 58,
     "metadata": {},
     "output_type": "execute_result"
    }
   ],
   "source": [
    "libObject2.sum(2,3)"
   ]
  },
  {
   "cell_type": "markdown",
   "metadata": {},
   "source": [
    "This works, but the ctypes had to make a guess about the argument types, so it's very dangerous and you need to actually specify them using `argtypes` and `restypes`:"
   ]
  },
  {
   "cell_type": "code",
   "execution_count": 61,
   "metadata": {},
   "outputs": [],
   "source": [
    "libObject2.sum.argtypes = [ctypes.c_int, ctypes.c_int] #argument types \n",
    "libObject2.sum.restype = ctypes.c_int                  #can only return one thing from C function, so it is a single element."
   ]
  },
  {
   "cell_type": "code",
   "execution_count": 60,
   "metadata": {},
   "outputs": [
    {
     "data": {
      "text/plain": [
       "5"
      ]
     },
     "execution_count": 60,
     "metadata": {},
     "output_type": "execute_result"
    }
   ],
   "source": [
    "libObject2.sum(2,3)"
   ]
  },
  {
   "cell_type": "markdown",
   "metadata": {},
   "source": [
    "Working with strings:\n",
    "\n",
    "unfortunately, you need pure `C` strings for this to work, not `std::string`, so - char arrays. Let's just create a file (this is overcomplicated cause jupyter doesn't print anythng from C printf) (printf outputs stuff at the end): "
   ]
  },
  {
   "cell_type": "code",
   "execution_count": 65,
   "metadata": {},
   "outputs": [
    {
     "name": "stdout",
     "output_type": "stream",
     "text": [
      "Overwriting strings.cpp\n"
     ]
    }
   ],
   "source": [
    "%%file strings.cpp \n",
    "#magic command file which creates a file for you with the code below\n",
    "\n",
    "#include <iostream>\n",
    "extern \"C\" {\n",
    "    void print(char* str) {\n",
    "       std::cout<<str<<std::endl;\n",
    "    }\n",
    "}"
   ]
  },
  {
   "cell_type": "markdown",
   "metadata": {},
   "source": [
    "compile with\n",
    "\n",
    "```\n",
    "g++ -fPIC -shared -o libstrings.so strings.cpp\n",
    "```"
   ]
  },
  {
   "cell_type": "code",
   "execution_count": 46,
   "metadata": {},
   "outputs": [],
   "source": [
    "!g++ -fPIC -shared -o libstrings.so strings.cpp"
   ]
  },
  {
   "cell_type": "code",
   "execution_count": 47,
   "metadata": {},
   "outputs": [],
   "source": [
    "lo = ctypes.CDLL('./libstrings.so')"
   ]
  },
  {
   "cell_type": "code",
   "execution_count": 48,
   "metadata": {},
   "outputs": [],
   "source": [
    "lo.argtypes=[ctypes.c_char_p] #pointer to char"
   ]
  },
  {
   "cell_type": "markdown",
   "metadata": {},
   "source": [
    "There are two ways of passing a string to our function defined with ctypes:\n",
    " - `b\"string\"` converts to binary that ctypes can accept\n",
    " - `cstring.encode` convert a string to an object, this usually **makes more sense**"
   ]
  },
  {
   "cell_type": "code",
   "execution_count": 66,
   "metadata": {},
   "outputs": [
    {
     "name": "stdout",
     "output_type": "stream",
     "text": [
      "MEOW\n"
     ]
    },
    {
     "data": {
      "text/plain": [
       "1207364720"
      ]
     },
     "execution_count": 66,
     "metadata": {},
     "output_type": "execute_result"
    }
   ],
   "source": [
    "lo.print(b\"MEOW\")"
   ]
  },
  {
   "cell_type": "code",
   "execution_count": 67,
   "metadata": {},
   "outputs": [
    {
     "name": "stdout",
     "output_type": "stream",
     "text": [
      "MEOW\n"
     ]
    },
    {
     "data": {
      "text/plain": [
       "1207364720"
      ]
     },
     "execution_count": 67,
     "metadata": {},
     "output_type": "execute_result"
    }
   ],
   "source": [
    "cstring =\"MEOW\"\n",
    "lo.print(cstring.encode())"
   ]
  },
  {
   "cell_type": "markdown",
   "metadata": {},
   "source": [
    "Working with arrays:\\\n",
    "If you want to mimic C program memory management in python you need to use this.\\\n",
    "In C++ you need to also call `delete`, remember to implement this!."
   ]
  },
  {
   "cell_type": "code",
   "execution_count": 70,
   "metadata": {},
   "outputs": [
    {
     "name": "stdout",
     "output_type": "stream",
     "text": [
      "Overwriting arrays.cpp\n"
     ]
    }
   ],
   "source": [
    "%%file arrays.cpp\n",
    "\n",
    "#include <iostream>\n",
    "\n",
    "extern \"C\"{\n",
    "    int* create_array(int N) {\n",
    "        int* arr = new int[N];\n",
    "        return arr;\n",
    "    }\n",
    "\n",
    "    void do_something_with_array(int* arr,int N){\n",
    "        for(int i=0;i<N;i++){\n",
    "            arr[i]=i;\n",
    "            std::cout<<arr[i];\n",
    "        }\n",
    "        std::cout<<std::endl;\n",
    "    }\n",
    "    \n",
    "    void delete_array(int* arr) {\n",
    "        delete[] arr;\n",
    "    }\n",
    "}"
   ]
  },
  {
   "cell_type": "code",
   "execution_count": 72,
   "metadata": {},
   "outputs": [],
   "source": [
    "!g++ -fPIC -shared -o libarr.so arrays.cpp"
   ]
  },
  {
   "cell_type": "code",
   "execution_count": 75,
   "metadata": {},
   "outputs": [],
   "source": [
    "lo = ctypes.CDLL('./libarr.so')"
   ]
  },
  {
   "cell_type": "markdown",
   "metadata": {},
   "source": [
    "Now we need to see how to specify the c types.\n",
    "\n",
    "For the pointer we need to state `ctypes.POINTER(pointer-to-what)`"
   ]
  },
  {
   "cell_type": "code",
   "execution_count": 76,
   "metadata": {},
   "outputs": [],
   "source": [
    "lo.create_array.restype=ctypes.POINTER(ctypes.c_int)\n",
    "lo.create_array.argtypes=[ctypes.c_int]\n",
    "lo.do_something_with_array.argtypes=[ctypes.POINTER(ctypes.c_int),ctypes.c_int]\n",
    "lo.delete_array.argtypes=[ctypes.POINTER(ctypes.c_int)]"
   ]
  },
  {
   "cell_type": "code",
   "execution_count": 79,
   "metadata": {},
   "outputs": [
    {
     "name": "stdout",
     "output_type": "stream",
     "text": [
      "0123456\n"
     ]
    },
    {
     "data": {
      "text/plain": [
       "-2071070660"
      ]
     },
     "execution_count": 79,
     "metadata": {},
     "output_type": "execute_result"
    }
   ],
   "source": [
    "arr=lo.create_array(7)\n",
    "lo.do_something_with_array(arr,7)\n",
    "lo.delete_array(arr)"
   ]
  },
  {
   "cell_type": "markdown",
   "metadata": {},
   "source": [
    "This is obviously a huge memory leak danger, you might want to combine those functions inside the C code."
   ]
  },
  {
   "cell_type": "markdown",
   "metadata": {},
   "source": [
    "Even if wrapping C++ classes might be a huge pain, you can still just call the whole program and hide all the templates and classes inside that."
   ]
  },
  {
   "cell_type": "markdown",
   "metadata": {},
   "source": [
    "What if you have a big C++ code that does a lot of things. You can either use pybind or if you only need to call one function.\n",
    "\n",
    "Consider the shapes.cpp with a lot of funciton with a not MAIN function that does same as before"
   ]
  },
  {
   "cell_type": "code",
   "execution_count": 85,
   "metadata": {},
   "outputs": [],
   "source": [
    "!g++ -std=c++17 -fPIC -shared -o libshapes.so shapes.cpp"
   ]
  },
  {
   "cell_type": "code",
   "execution_count": 83,
   "metadata": {},
   "outputs": [],
   "source": [
    "lo=ctypes.CDLL('./libshapes.so')"
   ]
  },
  {
   "cell_type": "code",
   "execution_count": 84,
   "metadata": {},
   "outputs": [
    {
     "name": "stdout",
     "output_type": "stream",
     "text": [
      "3.41421\n",
      "The vertex coordinates are\n",
      "(0,0) (1,0) (1,1) \n",
      "4\n",
      "The vertex coordinates are\n",
      "(0,0) \n",
      "(1,0) \n",
      "(1,1) \n",
      "(0,1) \n",
      "Polygon destructor called.\n"
     ]
    },
    {
     "data": {
      "text/plain": [
       "0"
      ]
     },
     "execution_count": 84,
     "metadata": {},
     "output_type": "execute_result"
    }
   ],
   "source": [
    "lo.NOT_main()"
   ]
  }
 ],
 "metadata": {
  "kernelspec": {
   "display_name": "Python 3 (ipykernel)",
   "language": "python",
   "name": "python3"
  },
  "language_info": {
   "codemirror_mode": {
    "name": "ipython",
    "version": 3
   },
   "file_extension": ".py",
   "mimetype": "text/x-python",
   "name": "python",
   "nbconvert_exporter": "python",
   "pygments_lexer": "ipython3",
   "version": "3.10.8"
  }
 },
 "nbformat": 4,
 "nbformat_minor": 4
}
